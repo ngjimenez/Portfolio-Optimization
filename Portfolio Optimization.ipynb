{
 "cells": [
  {
   "cell_type": "markdown",
   "metadata": {},
   "source": [
    "# Portfolio Optimization Using Python"
   ]
  },
  {
   "cell_type": "markdown",
   "metadata": {},
   "source": [
    "This project takes a look at portfolio optimization by using the Sharpe ratio."
   ]
  },
  {
   "cell_type": "code",
   "execution_count": 27,
   "metadata": {},
   "outputs": [],
   "source": [
    "import yfinance as yf\n",
    "import pandas as pd\n",
    "from datetime import datetime, timedelta\n",
    "import numpy as np\n",
    "from scipy.optimize import minimize\n",
    "from fredapi import Fred\n",
    "import matplotlib.pyplot as plt"
   ]
  },
  {
   "cell_type": "markdown",
   "metadata": {},
   "source": [
    "## 1. Set-up Tickers and Time Range"
   ]
  },
  {
   "cell_type": "code",
   "execution_count": 3,
   "metadata": {},
   "outputs": [],
   "source": [
    "tickers = [\"SPY\", \"BND\", \"GLD\", \"QQQ\", \"VTI\"]"
   ]
  },
  {
   "cell_type": "code",
   "execution_count": 4,
   "metadata": {},
   "outputs": [],
   "source": [
    "end_date = datetime.today()"
   ]
  },
  {
   "cell_type": "code",
   "execution_count": 5,
   "metadata": {},
   "outputs": [
    {
     "data": {
      "text/plain": [
       "datetime.datetime(2021, 11, 3, 23, 48, 16, 354867)"
      ]
     },
     "execution_count": 5,
     "metadata": {},
     "output_type": "execute_result"
    }
   ],
   "source": [
    "start_date = end_date - timedelta(days=3*365)\n",
    "start_date"
   ]
  },
  {
   "cell_type": "code",
   "execution_count": null,
   "metadata": {},
   "outputs": [],
   "source": [
    "# adjusted close excludes dividends, etc.\n",
    "adjusted_close_df = pd.DataFrame()"
   ]
  },
  {
   "cell_type": "code",
   "execution_count": null,
   "metadata": {},
   "outputs": [
    {
     "name": "stderr",
     "output_type": "stream",
     "text": [
      "[*********************100%***********************]  1 of 1 completed\n",
      "[*********************100%***********************]  1 of 1 completed\n",
      "[*********************100%***********************]  1 of 1 completed\n",
      "[*********************100%***********************]  1 of 1 completed\n",
      "[*********************100%***********************]  1 of 1 completed\n"
     ]
    }
   ],
   "source": [
    "# download data\n",
    "for ticker in tickers: \n",
    "    data = yf.download(ticker, start=start_date, end= end_date)\n",
    "    adjusted_close_df[ticker] = data[\"Adj Close\"]"
   ]
  },
  {
   "cell_type": "code",
   "execution_count": 8,
   "metadata": {},
   "outputs": [
    {
     "data": {
      "text/html": [
       "<div>\n",
       "<style scoped>\n",
       "    .dataframe tbody tr th:only-of-type {\n",
       "        vertical-align: middle;\n",
       "    }\n",
       "\n",
       "    .dataframe tbody tr th {\n",
       "        vertical-align: top;\n",
       "    }\n",
       "\n",
       "    .dataframe thead th {\n",
       "        text-align: right;\n",
       "    }\n",
       "</style>\n",
       "<table border=\"1\" class=\"dataframe\">\n",
       "  <thead>\n",
       "    <tr style=\"text-align: right;\">\n",
       "      <th></th>\n",
       "      <th>SPY</th>\n",
       "      <th>BND</th>\n",
       "      <th>GLD</th>\n",
       "      <th>QQQ</th>\n",
       "      <th>VTI</th>\n",
       "    </tr>\n",
       "    <tr>\n",
       "      <th>Date</th>\n",
       "      <th></th>\n",
       "      <th></th>\n",
       "      <th></th>\n",
       "      <th></th>\n",
       "      <th></th>\n",
       "    </tr>\n",
       "  </thead>\n",
       "  <tbody>\n",
       "    <tr>\n",
       "      <th>2021-11-04 00:00:00+00:00</th>\n",
       "      <td>446.779999</td>\n",
       "      <td>78.138985</td>\n",
       "      <td>167.649994</td>\n",
       "      <td>390.405640</td>\n",
       "      <td>230.664017</td>\n",
       "    </tr>\n",
       "    <tr>\n",
       "      <th>2021-11-05 00:00:00+00:00</th>\n",
       "      <td>448.330170</td>\n",
       "      <td>78.376381</td>\n",
       "      <td>169.839996</td>\n",
       "      <td>390.778168</td>\n",
       "      <td>231.552551</td>\n",
       "    </tr>\n",
       "    <tr>\n",
       "      <th>2021-11-08 00:00:00+00:00</th>\n",
       "      <td>448.712891</td>\n",
       "      <td>78.202934</td>\n",
       "      <td>170.449997</td>\n",
       "      <td>390.248718</td>\n",
       "      <td>231.934692</td>\n",
       "    </tr>\n",
       "    <tr>\n",
       "      <th>2021-11-09 00:00:00+00:00</th>\n",
       "      <td>447.229706</td>\n",
       "      <td>78.422035</td>\n",
       "      <td>171.289993</td>\n",
       "      <td>387.562561</td>\n",
       "      <td>231.265945</td>\n",
       "    </tr>\n",
       "    <tr>\n",
       "      <th>2021-11-10 00:00:00+00:00</th>\n",
       "      <td>443.631836</td>\n",
       "      <td>77.892464</td>\n",
       "      <td>173.149994</td>\n",
       "      <td>381.866608</td>\n",
       "      <td>228.992065</td>\n",
       "    </tr>\n",
       "    <tr>\n",
       "      <th>...</th>\n",
       "      <td>...</td>\n",
       "      <td>...</td>\n",
       "      <td>...</td>\n",
       "      <td>...</td>\n",
       "      <td>...</td>\n",
       "    </tr>\n",
       "    <tr>\n",
       "      <th>2024-10-28 00:00:00+00:00</th>\n",
       "      <td>580.830017</td>\n",
       "      <td>72.841942</td>\n",
       "      <td>253.330002</td>\n",
       "      <td>495.399994</td>\n",
       "      <td>286.700012</td>\n",
       "    </tr>\n",
       "    <tr>\n",
       "      <th>2024-10-29 00:00:00+00:00</th>\n",
       "      <td>581.770020</td>\n",
       "      <td>72.901749</td>\n",
       "      <td>256.089996</td>\n",
       "      <td>500.160004</td>\n",
       "      <td>287.079987</td>\n",
       "    </tr>\n",
       "    <tr>\n",
       "      <th>2024-10-30 00:00:00+00:00</th>\n",
       "      <td>580.010010</td>\n",
       "      <td>72.831970</td>\n",
       "      <td>257.500000</td>\n",
       "      <td>496.380005</td>\n",
       "      <td>286.369995</td>\n",
       "    </tr>\n",
       "    <tr>\n",
       "      <th>2024-10-31 00:00:00+00:00</th>\n",
       "      <td>568.640015</td>\n",
       "      <td>72.822006</td>\n",
       "      <td>253.509995</td>\n",
       "      <td>483.850006</td>\n",
       "      <td>281.029999</td>\n",
       "    </tr>\n",
       "    <tr>\n",
       "      <th>2024-11-01 00:00:00+00:00</th>\n",
       "      <td>571.039978</td>\n",
       "      <td>72.540001</td>\n",
       "      <td>252.470001</td>\n",
       "      <td>487.429993</td>\n",
       "      <td>282.230011</td>\n",
       "    </tr>\n",
       "  </tbody>\n",
       "</table>\n",
       "<p>753 rows × 5 columns</p>\n",
       "</div>"
      ],
      "text/plain": [
       "                                  SPY        BND         GLD         QQQ  \\\n",
       "Date                                                                       \n",
       "2021-11-04 00:00:00+00:00  446.779999  78.138985  167.649994  390.405640   \n",
       "2021-11-05 00:00:00+00:00  448.330170  78.376381  169.839996  390.778168   \n",
       "2021-11-08 00:00:00+00:00  448.712891  78.202934  170.449997  390.248718   \n",
       "2021-11-09 00:00:00+00:00  447.229706  78.422035  171.289993  387.562561   \n",
       "2021-11-10 00:00:00+00:00  443.631836  77.892464  173.149994  381.866608   \n",
       "...                               ...        ...         ...         ...   \n",
       "2024-10-28 00:00:00+00:00  580.830017  72.841942  253.330002  495.399994   \n",
       "2024-10-29 00:00:00+00:00  581.770020  72.901749  256.089996  500.160004   \n",
       "2024-10-30 00:00:00+00:00  580.010010  72.831970  257.500000  496.380005   \n",
       "2024-10-31 00:00:00+00:00  568.640015  72.822006  253.509995  483.850006   \n",
       "2024-11-01 00:00:00+00:00  571.039978  72.540001  252.470001  487.429993   \n",
       "\n",
       "                                  VTI  \n",
       "Date                                   \n",
       "2021-11-04 00:00:00+00:00  230.664017  \n",
       "2021-11-05 00:00:00+00:00  231.552551  \n",
       "2021-11-08 00:00:00+00:00  231.934692  \n",
       "2021-11-09 00:00:00+00:00  231.265945  \n",
       "2021-11-10 00:00:00+00:00  228.992065  \n",
       "...                               ...  \n",
       "2024-10-28 00:00:00+00:00  286.700012  \n",
       "2024-10-29 00:00:00+00:00  287.079987  \n",
       "2024-10-30 00:00:00+00:00  286.369995  \n",
       "2024-10-31 00:00:00+00:00  281.029999  \n",
       "2024-11-01 00:00:00+00:00  282.230011  \n",
       "\n",
       "[753 rows x 5 columns]"
      ]
     },
     "execution_count": 8,
     "metadata": {},
     "output_type": "execute_result"
    }
   ],
   "source": [
    "adjusted_close_df"
   ]
  },
  {
   "cell_type": "markdown",
   "metadata": {},
   "source": [
    "## 2. Calculate Log Normal Returns"
   ]
  },
  {
   "cell_type": "code",
   "execution_count": 9,
   "metadata": {},
   "outputs": [],
   "source": [
    "log_returns = np.log(adjusted_close_df / adjusted_close_df.shift(1))"
   ]
  },
  {
   "cell_type": "code",
   "execution_count": 10,
   "metadata": {},
   "outputs": [],
   "source": [
    "log_returns = log_returns.dropna()"
   ]
  },
  {
   "cell_type": "markdown",
   "metadata": {},
   "source": [
    "## 3. Calculate Covariance Matrix"
   ]
  },
  {
   "cell_type": "code",
   "execution_count": 11,
   "metadata": {},
   "outputs": [
    {
     "data": {
      "text/html": [
       "<div>\n",
       "<style scoped>\n",
       "    .dataframe tbody tr th:only-of-type {\n",
       "        vertical-align: middle;\n",
       "    }\n",
       "\n",
       "    .dataframe tbody tr th {\n",
       "        vertical-align: top;\n",
       "    }\n",
       "\n",
       "    .dataframe thead th {\n",
       "        text-align: right;\n",
       "    }\n",
       "</style>\n",
       "<table border=\"1\" class=\"dataframe\">\n",
       "  <thead>\n",
       "    <tr style=\"text-align: right;\">\n",
       "      <th></th>\n",
       "      <th>SPY</th>\n",
       "      <th>BND</th>\n",
       "      <th>GLD</th>\n",
       "      <th>QQQ</th>\n",
       "      <th>VTI</th>\n",
       "    </tr>\n",
       "  </thead>\n",
       "  <tbody>\n",
       "    <tr>\n",
       "      <th>SPY</th>\n",
       "      <td>0.030986</td>\n",
       "      <td>0.002747</td>\n",
       "      <td>0.004062</td>\n",
       "      <td>0.039917</td>\n",
       "      <td>0.031704</td>\n",
       "    </tr>\n",
       "    <tr>\n",
       "      <th>BND</th>\n",
       "      <td>0.002747</td>\n",
       "      <td>0.004828</td>\n",
       "      <td>0.004228</td>\n",
       "      <td>0.003601</td>\n",
       "      <td>0.002902</td>\n",
       "    </tr>\n",
       "    <tr>\n",
       "      <th>GLD</th>\n",
       "      <td>0.004062</td>\n",
       "      <td>0.004228</td>\n",
       "      <td>0.020145</td>\n",
       "      <td>0.004453</td>\n",
       "      <td>0.004237</td>\n",
       "    </tr>\n",
       "    <tr>\n",
       "      <th>QQQ</th>\n",
       "      <td>0.039917</td>\n",
       "      <td>0.003601</td>\n",
       "      <td>0.004453</td>\n",
       "      <td>0.056765</td>\n",
       "      <td>0.040865</td>\n",
       "    </tr>\n",
       "    <tr>\n",
       "      <th>VTI</th>\n",
       "      <td>0.031704</td>\n",
       "      <td>0.002902</td>\n",
       "      <td>0.004237</td>\n",
       "      <td>0.040865</td>\n",
       "      <td>0.032745</td>\n",
       "    </tr>\n",
       "  </tbody>\n",
       "</table>\n",
       "</div>"
      ],
      "text/plain": [
       "          SPY       BND       GLD       QQQ       VTI\n",
       "SPY  0.030986  0.002747  0.004062  0.039917  0.031704\n",
       "BND  0.002747  0.004828  0.004228  0.003601  0.002902\n",
       "GLD  0.004062  0.004228  0.020145  0.004453  0.004237\n",
       "QQQ  0.039917  0.003601  0.004453  0.056765  0.040865\n",
       "VTI  0.031704  0.002902  0.004237  0.040865  0.032745"
      ]
     },
     "execution_count": 11,
     "metadata": {},
     "output_type": "execute_result"
    }
   ],
   "source": [
    "covariance_matrix = log_returns.cov()*252\n",
    "covariance_matrix"
   ]
  },
  {
   "cell_type": "markdown",
   "metadata": {},
   "source": [
    "## 4. Set-up Portfolio Metrics"
   ]
  },
  {
   "cell_type": "markdown",
   "metadata": {},
   "source": [
    "### Standard Deviation (risk)"
   ]
  },
  {
   "cell_type": "code",
   "execution_count": 12,
   "metadata": {},
   "outputs": [],
   "source": [
    "def std_dev(weights, covariance_matrix):\n",
    "    variance = weights.T @ covariance_matrix @ weights\n",
    "\n",
    "    return np.sqrt(variance)"
   ]
  },
  {
   "cell_type": "markdown",
   "metadata": {},
   "source": [
    "### Calculate expected return"
   ]
  },
  {
   "cell_type": "code",
   "execution_count": 13,
   "metadata": {},
   "outputs": [],
   "source": [
    "def expected_return(weights, log_returns):\n",
    "    return np.sum(log_returns.mean() * weights) * 252"
   ]
  },
  {
   "cell_type": "markdown",
   "metadata": {},
   "source": [
    "### Calculate Sharpe Ratio"
   ]
  },
  {
   "cell_type": "code",
   "execution_count": 14,
   "metadata": {},
   "outputs": [],
   "source": [
    "def sharpe_ratio(weights, log_returns, covariance_matrix, risk_free_rate):\n",
    "    sharpe_ratio_final = (expected_return(weights, log_returns) - risk_free_rate) / std_dev(weights, covariance_matrix)\n",
    "\n",
    "    return sharpe_ratio_final"
   ]
  },
  {
   "cell_type": "code",
   "execution_count": 17,
   "metadata": {},
   "outputs": [],
   "source": [
    "risk_free_rate = 0.04"
   ]
  },
  {
   "cell_type": "code",
   "execution_count": null,
   "metadata": {},
   "outputs": [],
   "source": [
    "# fred = Fred(api_key=\"\")\n",
    "# ten_year = fred.get_series_last_release(\"GS10\") / 100 #div by 100 to get percentage\n",
    "\n",
    "# risk_free_rate = ten_year.iloc[-1]\n",
    "# print(risk_free_rate)"
   ]
  },
  {
   "cell_type": "markdown",
   "metadata": {},
   "source": [
    "## 5. Optimize Portfolio\n",
    "In this section, I am optimizing the portfolio by minimizing the negative Sharpe ratio."
   ]
  },
  {
   "cell_type": "code",
   "execution_count": 18,
   "metadata": {},
   "outputs": [],
   "source": [
    "def neg_sharpe_ratio(weights, log_returns, covariance_matrix, risk_free_rate):\n",
    "    neg_sharpe_ratio_final = -sharpe_ratio(weights, log_returns, covariance_matrix, risk_free_rate)\n",
    "\n",
    "    return neg_sharpe_ratio_final"
   ]
  },
  {
   "cell_type": "code",
   "execution_count": 21,
   "metadata": {},
   "outputs": [],
   "source": [
    "constraints = {'type': 'eq', 'fun': lambda weights: np.sum(weights) - 1} # make sure weights add up to 1\n",
    "bounds = [(0, 0.4) for _ in range(len(tickers))] # 0 as lower bound means we can't go short # 0.4, any one asset can't be more than 40%"
   ]
  },
  {
   "cell_type": "code",
   "execution_count": 22,
   "metadata": {},
   "outputs": [
    {
     "data": {
      "text/plain": [
       "array([0.2, 0.2, 0.2, 0.2, 0.2])"
      ]
     },
     "execution_count": 22,
     "metadata": {},
     "output_type": "execute_result"
    }
   ],
   "source": [
    "initial_weights = np.array([1/len(tickers)]*len(tickers)) \n",
    "initial_weights"
   ]
  },
  {
   "cell_type": "markdown",
   "metadata": {},
   "source": [
    "## 6. Analyze Optimized Portfolio"
   ]
  },
  {
   "cell_type": "code",
   "execution_count": 23,
   "metadata": {},
   "outputs": [
    {
     "data": {
      "text/plain": [
       " message: Optimization terminated successfully\n",
       " success: True\n",
       "  status: 0\n",
       "     fun: -0.47658066326707227\n",
       "       x: [ 4.000e-01  0.000e+00  4.000e-01  0.000e+00  2.000e-01]\n",
       "     nit: 4\n",
       "     jac: [-5.278e-02  2.908e-01 -7.634e-01  1.685e-01  7.721e-02]\n",
       "    nfev: 24\n",
       "    njev: 4"
      ]
     },
     "execution_count": 23,
     "metadata": {},
     "output_type": "execute_result"
    }
   ],
   "source": [
    "optimized_results = minimize(neg_sharpe_ratio, initial_weights, args=(log_returns, covariance_matrix, risk_free_rate), method='SLSQP', constraints=constraints, bounds=bounds)\n",
    "optimized_results"
   ]
  },
  {
   "cell_type": "code",
   "execution_count": 24,
   "metadata": {},
   "outputs": [
    {
     "data": {
      "text/plain": [
       "array([0.4, 0. , 0.4, 0. , 0.2])"
      ]
     },
     "execution_count": 24,
     "metadata": {},
     "output_type": "execute_result"
    }
   ],
   "source": [
    "optimal_weights = optimized_results.x\n",
    "optimal_weights"
   ]
  },
  {
   "cell_type": "code",
   "execution_count": 25,
   "metadata": {},
   "outputs": [
    {
     "name": "stdout",
     "output_type": "stream",
     "text": [
      "SPY: 0.4000\n",
      "BND: 0.0000\n",
      "GLD: 0.4000\n",
      "QQQ: 0.0000\n",
      "VTI: 0.2000\n",
      "Expected Annual Return: 0.1013\n",
      "Expected Volatility: 0.1286\n",
      "Sharpe Ratio: 0.4766\n"
     ]
    }
   ],
   "source": [
    "for ticker, weight in zip(tickers, optimal_weights):\n",
    "    print(f\"{ticker}: {weight:.4f}\")\n",
    "\n",
    "optimal_portfolio_return = expected_return(optimal_weights, log_returns)\n",
    "optimal_portfolio_volatility = std_dev(optimal_weights, covariance_matrix)\n",
    "optimal_sharpe_ratio = sharpe_ratio(optimal_weights, log_returns, covariance_matrix, risk_free_rate)\n",
    "\n",
    "print(f\"Expected Annual Return: {optimal_portfolio_return:.4f}\")\n",
    "print(f\"Expected Volatility: {optimal_portfolio_volatility:.4f}\")\n",
    "print(f\"Sharpe Ratio: {optimal_sharpe_ratio:.4f}\")"
   ]
  },
  {
   "cell_type": "code",
   "execution_count": 28,
   "metadata": {},
   "outputs": [
    {
     "data": {
      "image/png": "[encoded data removed]",
      "text/plain": [
       "<Figure size 1000x600 with 1 Axes>"
      ]
     },
     "metadata": {},
     "output_type": "display_data"
    }
   ],
   "source": [
    "plt.figure(figsize=(10, 6))\n",
    "plt.bar(tickers, optimal_weights)\n",
    "\n",
    "plt.xlabel('Assets')\n",
    "plt.ylabel('Optimal Weights')\n",
    "plt.title('Optimal Portfolio Weights')\n",
    "\n",
    "plt.show()"
   ]
  },
  {
   "cell_type": "code",
   "execution_count": null,
   "metadata": {},
   "outputs": [],
   "source": []
  }
 ],
 "metadata": {
  "kernelspec": {
   "display_name": "Python 3",
   "language": "python",
   "name": "python3"
  },
  "language_info": {
   "codemirror_mode": {
    "name": "ipython",
    "version": 3
   },
   "file_extension": ".py",
   "mimetype": "text/x-python",
   "name": "python",
   "nbconvert_exporter": "python",
   "pygments_lexer": "ipython3",
   "version": "3.11.9"
  }
 },
 "nbformat": 4,
 "nbformat_minor": 2
}
