{
 "cells": [
  {
   "cell_type": "markdown",
   "metadata": {},
   "source": [
    "# Portfolio Optimization Using Python"
   ]
  },
  {
   "cell_type": "markdown",
   "metadata": {},
   "source": [
    "This project takes a look at portfolio optimization by using the Sharpe ratio. The overall objective is to see if my personal portfolio managed by a robo-advisor is allocated in the most optimal way."
   ]
  },
  {
   "cell_type": "code",
   "execution_count": null,
   "metadata": {},
   "outputs": [],
   "source": [
    "import yfinance as yf\n",
    "import pandas as pd\n",
    "from datetime import datetime, timedelta\n",
    "import numpy as np\n",
    "from scipy.optimize import minimize\n",
    "from fredapi import Fred\n",
    "import matplotlib.pyplot as plt"
   ]
  },
  {
   "cell_type": "markdown",
   "metadata": {},
   "source": [
    "## 1. Set-up Tickers and Time Range"
   ]
  },
  {
   "cell_type": "markdown",
   "metadata": {},
   "source": [
    "The ETFs chosen by my roboadvisor:\n",
    "* VTI: US stocks\n",
    "* VNQ: Real estate\n",
    "* LQD: Corporate bonds\n",
    "* VWO: Emerging market stocks\n",
    "* VEA: foreign developed stocks\n",
    "* EMB: foreign market bonds\n",
    "\n",
    "As such, I will use these same tickers."
   ]
  },
  {
   "cell_type": "code",
   "execution_count": 85,
   "metadata": {},
   "outputs": [],
   "source": [
    "tickers = [\"VTI\", \"VNQ\", \"LQD\", \"VWO\", \"VEA\", \"EMB\"]"
   ]
  },
  {
   "cell_type": "code",
   "execution_count": 87,
   "metadata": {},
   "outputs": [],
   "source": [
    "end_date = datetime.today()"
   ]
  },
  {
   "cell_type": "code",
   "execution_count": 88,
   "metadata": {},
   "outputs": [
    {
     "data": {
      "text/plain": [
       "datetime.datetime(2019, 11, 6, 22, 37, 56, 302636)"
      ]
     },
     "execution_count": 88,
     "metadata": {},
     "output_type": "execute_result"
    }
   ],
   "source": [
    "start_date = end_date - timedelta(days=5*365)\n",
    "start_date"
   ]
  },
  {
   "cell_type": "code",
   "execution_count": 89,
   "metadata": {},
   "outputs": [],
   "source": [
    "# adjusted close excludes dividends, etc.\n",
    "adjusted_close_df = pd.DataFrame()"
   ]
  },
  {
   "cell_type": "code",
   "execution_count": 90,
   "metadata": {},
   "outputs": [
    {
     "name": "stderr",
     "output_type": "stream",
     "text": [
      "[*********************100%***********************]  1 of 1 completed\n",
      "[*********************100%***********************]  1 of 1 completed\n",
      "[*********************100%***********************]  1 of 1 completed\n",
      "[*********************100%***********************]  1 of 1 completed\n",
      "[*********************100%***********************]  1 of 1 completed\n",
      "[*********************100%***********************]  1 of 1 completed\n"
     ]
    }
   ],
   "source": [
    "# download data\n",
    "for ticker in tickers: \n",
    "    data = yf.download(ticker, start=start_date, end= end_date)\n",
    "    adjusted_close_df[ticker] = data[\"Adj Close\"]"
   ]
  },
  {
   "cell_type": "code",
   "execution_count": 91,
   "metadata": {},
   "outputs": [
    {
     "data": {
      "text/html": [
       "<div>\n",
       "<style scoped>\n",
       "    .dataframe tbody tr th:only-of-type {\n",
       "        vertical-align: middle;\n",
       "    }\n",
       "\n",
       "    .dataframe tbody tr th {\n",
       "        vertical-align: top;\n",
       "    }\n",
       "\n",
       "    .dataframe thead th {\n",
       "        text-align: right;\n",
       "    }\n",
       "</style>\n",
       "<table border=\"1\" class=\"dataframe\">\n",
       "  <thead>\n",
       "    <tr style=\"text-align: right;\">\n",
       "      <th></th>\n",
       "      <th>VTI</th>\n",
       "      <th>VNQ</th>\n",
       "      <th>LQD</th>\n",
       "      <th>VWO</th>\n",
       "      <th>VEA</th>\n",
       "      <th>EMB</th>\n",
       "    </tr>\n",
       "    <tr>\n",
       "      <th>Date</th>\n",
       "      <th></th>\n",
       "      <th></th>\n",
       "      <th></th>\n",
       "      <th></th>\n",
       "      <th></th>\n",
       "      <th></th>\n",
       "    </tr>\n",
       "  </thead>\n",
       "  <tbody>\n",
       "    <tr>\n",
       "      <th>2019-11-07 00:00:00+00:00</th>\n",
       "      <td>144.930283</td>\n",
       "      <td>75.551620</td>\n",
       "      <td>107.107056</td>\n",
       "      <td>37.469040</td>\n",
       "      <td>37.300591</td>\n",
       "      <td>89.814690</td>\n",
       "    </tr>\n",
       "    <tr>\n",
       "      <th>2019-11-08 00:00:00+00:00</th>\n",
       "      <td>145.337189</td>\n",
       "      <td>75.369598</td>\n",
       "      <td>106.962402</td>\n",
       "      <td>37.131081</td>\n",
       "      <td>37.222790</td>\n",
       "      <td>89.942825</td>\n",
       "    </tr>\n",
       "    <tr>\n",
       "      <th>2019-11-11 00:00:00+00:00</th>\n",
       "      <td>145.050522</td>\n",
       "      <td>75.535095</td>\n",
       "      <td>106.996429</td>\n",
       "      <td>36.923126</td>\n",
       "      <td>37.188213</td>\n",
       "      <td>89.870773</td>\n",
       "    </tr>\n",
       "    <tr>\n",
       "      <th>2019-11-12 00:00:00+00:00</th>\n",
       "      <td>145.300171</td>\n",
       "      <td>74.964157</td>\n",
       "      <td>107.098564</td>\n",
       "      <td>36.645828</td>\n",
       "      <td>37.196854</td>\n",
       "      <td>89.686623</td>\n",
       "    </tr>\n",
       "    <tr>\n",
       "      <th>2019-11-13 00:00:00+00:00</th>\n",
       "      <td>145.364929</td>\n",
       "      <td>75.650925</td>\n",
       "      <td>107.353806</td>\n",
       "      <td>36.411865</td>\n",
       "      <td>37.075821</td>\n",
       "      <td>89.550583</td>\n",
       "    </tr>\n",
       "    <tr>\n",
       "      <th>...</th>\n",
       "      <td>...</td>\n",
       "      <td>...</td>\n",
       "      <td>...</td>\n",
       "      <td>...</td>\n",
       "      <td>...</td>\n",
       "      <td>...</td>\n",
       "    </tr>\n",
       "    <tr>\n",
       "      <th>2024-10-29 00:00:00+00:00</th>\n",
       "      <td>287.079987</td>\n",
       "      <td>95.349998</td>\n",
       "      <td>108.963730</td>\n",
       "      <td>47.009998</td>\n",
       "      <td>50.709999</td>\n",
       "      <td>91.135033</td>\n",
       "    </tr>\n",
       "    <tr>\n",
       "      <th>2024-10-30 00:00:00+00:00</th>\n",
       "      <td>286.369995</td>\n",
       "      <td>95.769997</td>\n",
       "      <td>108.824226</td>\n",
       "      <td>46.669998</td>\n",
       "      <td>50.459999</td>\n",
       "      <td>91.035492</td>\n",
       "    </tr>\n",
       "    <tr>\n",
       "      <th>2024-10-31 00:00:00+00:00</th>\n",
       "      <td>281.029999</td>\n",
       "      <td>94.150002</td>\n",
       "      <td>108.605003</td>\n",
       "      <td>46.570000</td>\n",
       "      <td>50.099998</td>\n",
       "      <td>90.498001</td>\n",
       "    </tr>\n",
       "    <tr>\n",
       "      <th>2024-11-01 00:00:00+00:00</th>\n",
       "      <td>282.230011</td>\n",
       "      <td>93.110001</td>\n",
       "      <td>108.010002</td>\n",
       "      <td>46.580002</td>\n",
       "      <td>50.209999</td>\n",
       "      <td>90.139999</td>\n",
       "    </tr>\n",
       "    <tr>\n",
       "      <th>2024-11-04 00:00:00+00:00</th>\n",
       "      <td>281.720001</td>\n",
       "      <td>94.129997</td>\n",
       "      <td>108.809998</td>\n",
       "      <td>46.730000</td>\n",
       "      <td>50.279999</td>\n",
       "      <td>90.529999</td>\n",
       "    </tr>\n",
       "  </tbody>\n",
       "</table>\n",
       "<p>1256 rows × 6 columns</p>\n",
       "</div>"
      ],
      "text/plain": [
       "                                  VTI        VNQ         LQD        VWO  \\\n",
       "Date                                                                      \n",
       "2019-11-07 00:00:00+00:00  144.930283  75.551620  107.107056  37.469040   \n",
       "2019-11-08 00:00:00+00:00  145.337189  75.369598  106.962402  37.131081   \n",
       "2019-11-11 00:00:00+00:00  145.050522  75.535095  106.996429  36.923126   \n",
       "2019-11-12 00:00:00+00:00  145.300171  74.964157  107.098564  36.645828   \n",
       "2019-11-13 00:00:00+00:00  145.364929  75.650925  107.353806  36.411865   \n",
       "...                               ...        ...         ...        ...   \n",
       "2024-10-29 00:00:00+00:00  287.079987  95.349998  108.963730  47.009998   \n",
       "2024-10-30 00:00:00+00:00  286.369995  95.769997  108.824226  46.669998   \n",
       "2024-10-31 00:00:00+00:00  281.029999  94.150002  108.605003  46.570000   \n",
       "2024-11-01 00:00:00+00:00  282.230011  93.110001  108.010002  46.580002   \n",
       "2024-11-04 00:00:00+00:00  281.720001  94.129997  108.809998  46.730000   \n",
       "\n",
       "                                 VEA        EMB  \n",
       "Date                                             \n",
       "2019-11-07 00:00:00+00:00  37.300591  89.814690  \n",
       "2019-11-08 00:00:00+00:00  37.222790  89.942825  \n",
       "2019-11-11 00:00:00+00:00  37.188213  89.870773  \n",
       "2019-11-12 00:00:00+00:00  37.196854  89.686623  \n",
       "2019-11-13 00:00:00+00:00  37.075821  89.550583  \n",
       "...                              ...        ...  \n",
       "2024-10-29 00:00:00+00:00  50.709999  91.135033  \n",
       "2024-10-30 00:00:00+00:00  50.459999  91.035492  \n",
       "2024-10-31 00:00:00+00:00  50.099998  90.498001  \n",
       "2024-11-01 00:00:00+00:00  50.209999  90.139999  \n",
       "2024-11-04 00:00:00+00:00  50.279999  90.529999  \n",
       "\n",
       "[1256 rows x 6 columns]"
      ]
     },
     "execution_count": 91,
     "metadata": {},
     "output_type": "execute_result"
    }
   ],
   "source": [
    "adjusted_close_df"
   ]
  },
  {
   "cell_type": "markdown",
   "metadata": {},
   "source": [
    "## 2. Calculate Log Normal Returns"
   ]
  },
  {
   "cell_type": "code",
   "execution_count": 92,
   "metadata": {},
   "outputs": [],
   "source": [
    "log_returns = np.log(adjusted_close_df / adjusted_close_df.shift(1))"
   ]
  },
  {
   "cell_type": "code",
   "execution_count": 93,
   "metadata": {},
   "outputs": [],
   "source": [
    "log_returns = log_returns.dropna()"
   ]
  },
  {
   "cell_type": "markdown",
   "metadata": {},
   "source": [
    "## 3. Calculate Covariance Matrix"
   ]
  },
  {
   "cell_type": "code",
   "execution_count": 94,
   "metadata": {},
   "outputs": [
    {
     "data": {
      "text/html": [
       "<div>\n",
       "<style scoped>\n",
       "    .dataframe tbody tr th:only-of-type {\n",
       "        vertical-align: middle;\n",
       "    }\n",
       "\n",
       "    .dataframe tbody tr th {\n",
       "        vertical-align: top;\n",
       "    }\n",
       "\n",
       "    .dataframe thead th {\n",
       "        text-align: right;\n",
       "    }\n",
       "</style>\n",
       "<table border=\"1\" class=\"dataframe\">\n",
       "  <thead>\n",
       "    <tr style=\"text-align: right;\">\n",
       "      <th></th>\n",
       "      <th>VTI</th>\n",
       "      <th>VNQ</th>\n",
       "      <th>LQD</th>\n",
       "      <th>VWO</th>\n",
       "      <th>VEA</th>\n",
       "      <th>EMB</th>\n",
       "    </tr>\n",
       "  </thead>\n",
       "  <tbody>\n",
       "    <tr>\n",
       "      <th>VTI</th>\n",
       "      <td>0.046656</td>\n",
       "      <td>0.045360</td>\n",
       "      <td>0.008629</td>\n",
       "      <td>0.035719</td>\n",
       "      <td>0.038743</td>\n",
       "      <td>0.017551</td>\n",
       "    </tr>\n",
       "    <tr>\n",
       "      <th>VNQ</th>\n",
       "      <td>0.045360</td>\n",
       "      <td>0.066178</td>\n",
       "      <td>0.011694</td>\n",
       "      <td>0.034346</td>\n",
       "      <td>0.039526</td>\n",
       "      <td>0.020558</td>\n",
       "    </tr>\n",
       "    <tr>\n",
       "      <th>LQD</th>\n",
       "      <td>0.008629</td>\n",
       "      <td>0.011694</td>\n",
       "      <td>0.012295</td>\n",
       "      <td>0.007417</td>\n",
       "      <td>0.008377</td>\n",
       "      <td>0.009903</td>\n",
       "    </tr>\n",
       "    <tr>\n",
       "      <th>VWO</th>\n",
       "      <td>0.035719</td>\n",
       "      <td>0.034346</td>\n",
       "      <td>0.007417</td>\n",
       "      <td>0.045921</td>\n",
       "      <td>0.036558</td>\n",
       "      <td>0.016933</td>\n",
       "    </tr>\n",
       "    <tr>\n",
       "      <th>VEA</th>\n",
       "      <td>0.038743</td>\n",
       "      <td>0.039526</td>\n",
       "      <td>0.008377</td>\n",
       "      <td>0.036558</td>\n",
       "      <td>0.040590</td>\n",
       "      <td>0.017668</td>\n",
       "    </tr>\n",
       "    <tr>\n",
       "      <th>EMB</th>\n",
       "      <td>0.017551</td>\n",
       "      <td>0.020558</td>\n",
       "      <td>0.009903</td>\n",
       "      <td>0.016933</td>\n",
       "      <td>0.017668</td>\n",
       "      <td>0.016341</td>\n",
       "    </tr>\n",
       "  </tbody>\n",
       "</table>\n",
       "</div>"
      ],
      "text/plain": [
       "          VTI       VNQ       LQD       VWO       VEA       EMB\n",
       "VTI  0.046656  0.045360  0.008629  0.035719  0.038743  0.017551\n",
       "VNQ  0.045360  0.066178  0.011694  0.034346  0.039526  0.020558\n",
       "LQD  0.008629  0.011694  0.012295  0.007417  0.008377  0.009903\n",
       "VWO  0.035719  0.034346  0.007417  0.045921  0.036558  0.016933\n",
       "VEA  0.038743  0.039526  0.008377  0.036558  0.040590  0.017668\n",
       "EMB  0.017551  0.020558  0.009903  0.016933  0.017668  0.016341"
      ]
     },
     "execution_count": 94,
     "metadata": {},
     "output_type": "execute_result"
    }
   ],
   "source": [
    "covariance_matrix = log_returns.cov()*252\n",
    "covariance_matrix"
   ]
  },
  {
   "cell_type": "markdown",
   "metadata": {},
   "source": [
    "## 4. Set-up Portfolio Metrics"
   ]
  },
  {
   "cell_type": "markdown",
   "metadata": {},
   "source": [
    "### Standard Deviation (risk)"
   ]
  },
  {
   "cell_type": "code",
   "execution_count": 95,
   "metadata": {},
   "outputs": [],
   "source": [
    "def std_dev(weights, covariance_matrix):\n",
    "    variance = weights.T @ covariance_matrix @ weights\n",
    "\n",
    "    return np.sqrt(variance)"
   ]
  },
  {
   "cell_type": "markdown",
   "metadata": {},
   "source": [
    "### Calculate expected return"
   ]
  },
  {
   "cell_type": "code",
   "execution_count": 96,
   "metadata": {},
   "outputs": [],
   "source": [
    "def expected_return(weights, log_returns):\n",
    "    return np.sum(log_returns.mean() * weights) * 252"
   ]
  },
  {
   "cell_type": "markdown",
   "metadata": {},
   "source": [
    "### Calculate Sharpe Ratio"
   ]
  },
  {
   "cell_type": "code",
   "execution_count": 97,
   "metadata": {},
   "outputs": [],
   "source": [
    "def sharpe_ratio(weights, log_returns, covariance_matrix, risk_free_rate):\n",
    "    sharpe_ratio_final = (expected_return(weights, log_returns) - risk_free_rate) / std_dev(weights, covariance_matrix)\n",
    "\n",
    "    return sharpe_ratio_final"
   ]
  },
  {
   "cell_type": "code",
   "execution_count": 98,
   "metadata": {},
   "outputs": [],
   "source": [
    "risk_free_rate = 0.04"
   ]
  },
  {
   "cell_type": "code",
   "execution_count": 99,
   "metadata": {},
   "outputs": [],
   "source": [
    "# fred = Fred(api_key=\"\")\n",
    "# ten_year = fred.get_series_last_release(\"GS10\") / 100 #div by 100 to get percentage\n",
    "\n",
    "# risk_free_rate = ten_year.iloc[-1]\n",
    "# print(risk_free_rate)"
   ]
  },
  {
   "cell_type": "markdown",
   "metadata": {},
   "source": [
    "## 5. Optimize Portfolio\n",
    "In this section, I am optimizing the portfolio by minimizing the negative Sharpe ratio."
   ]
  },
  {
   "cell_type": "code",
   "execution_count": 100,
   "metadata": {},
   "outputs": [],
   "source": [
    "def neg_sharpe_ratio(weights, log_returns, covariance_matrix, risk_free_rate):\n",
    "    neg_sharpe_ratio_final = -sharpe_ratio(weights, log_returns, covariance_matrix, risk_free_rate)\n",
    "\n",
    "    return neg_sharpe_ratio_final"
   ]
  },
  {
   "cell_type": "code",
   "execution_count": 101,
   "metadata": {},
   "outputs": [],
   "source": [
    "constraints = {'type': 'eq', 'fun': lambda weights: np.sum(weights) - 1} # make sure weights add up to 1\n",
    "bounds = [(0, 0.45) for _ in range(len(tickers))] # 0 as lower bound means we can't go short # 0.4, any one asset can't be more than 40%"
   ]
  },
  {
   "cell_type": "code",
   "execution_count": 102,
   "metadata": {},
   "outputs": [
    {
     "data": {
      "text/plain": [
       "array([0.16666667, 0.16666667, 0.16666667, 0.16666667, 0.16666667,\n",
       "       0.16666667])"
      ]
     },
     "execution_count": 102,
     "metadata": {},
     "output_type": "execute_result"
    }
   ],
   "source": [
    "initial_weights = np.array([1/len(tickers)]*len(tickers)) \n",
    "initial_weights"
   ]
  },
  {
   "cell_type": "markdown",
   "metadata": {},
   "source": [
    "## 6. Analyze Optimized Portfolio"
   ]
  },
  {
   "cell_type": "code",
   "execution_count": 103,
   "metadata": {},
   "outputs": [
    {
     "data": {
      "text/plain": [
       " message: Optimization terminated successfully\n",
       " success: True\n",
       "  status: 0\n",
       "     fun: -0.25633818891731364\n",
       "       x: [ 4.500e-01  0.000e+00  6.345e-17  1.000e-01  4.500e-01\n",
       "            3.285e-18]\n",
       "     nit: 4\n",
       "     jac: [-3.976e-01  4.482e-02  3.759e-02  1.509e-02 -4.840e-02\n",
       "            1.036e-01]\n",
       "    nfev: 28\n",
       "    njev: 4"
      ]
     },
     "execution_count": 103,
     "metadata": {},
     "output_type": "execute_result"
    }
   ],
   "source": [
    "optimized_results = minimize(neg_sharpe_ratio, initial_weights, args=(log_returns, covariance_matrix, risk_free_rate), method='SLSQP', constraints=constraints, bounds=bounds)\n",
    "optimized_results"
   ]
  },
  {
   "cell_type": "markdown",
   "metadata": {},
   "source": [
    "* VTI: 0.43\n",
    "* VNQ: 0.13\n",
    "* LQD: 0.13\n",
    "* VWO: 0.10\n",
    "* VEA: 0.10\n",
    "* EMB: 0.11"
   ]
  },
  {
   "cell_type": "code",
   "execution_count": 104,
   "metadata": {},
   "outputs": [
    {
     "data": {
      "text/plain": [
       "array([4.50000000e-01, 0.00000000e+00, 6.34516973e-17, 1.00000000e-01,\n",
       "       4.50000000e-01, 3.28488186e-18])"
      ]
     },
     "execution_count": 104,
     "metadata": {},
     "output_type": "execute_result"
    }
   ],
   "source": [
    "optimal_weights = optimized_results.x\n",
    "optimal_weights"
   ]
  },
  {
   "cell_type": "code",
   "execution_count": 105,
   "metadata": {},
   "outputs": [
    {
     "name": "stdout",
     "output_type": "stream",
     "text": [
      "VTI: 0.4500\n",
      "VNQ: 0.0000\n",
      "LQD: 0.0000\n",
      "VWO: 0.1000\n",
      "VEA: 0.4500\n",
      "EMB: 0.0000\n",
      "Expected Annual Return: 0.0915\n",
      "Expected Volatility: 0.2008\n",
      "Sharpe Ratio: 0.2563\n"
     ]
    }
   ],
   "source": [
    "for ticker, weight in zip(tickers, optimal_weights):\n",
    "    print(f\"{ticker}: {weight:.4f}\")\n",
    "\n",
    "optimal_portfolio_return = expected_return(optimal_weights, log_returns)\n",
    "optimal_portfolio_volatility = std_dev(optimal_weights, covariance_matrix)\n",
    "optimal_sharpe_ratio = sharpe_ratio(optimal_weights, log_returns, covariance_matrix, risk_free_rate)\n",
    "\n",
    "print(f\"Expected Annual Return: {optimal_portfolio_return:.4f}\")\n",
    "print(f\"Expected Volatility: {optimal_portfolio_volatility:.4f}\")\n",
    "print(f\"Sharpe Ratio: {optimal_sharpe_ratio:.4f}\")"
   ]
  },
  {
   "cell_type": "code",
   "execution_count": 106,
   "metadata": {},
   "outputs": [
    {
     "data": {
      "image/png": "[encoded data removed]",
      "text/plain": [
       "<Figure size 1000x600 with 1 Axes>"
      ]
     },
     "metadata": {},
     "output_type": "display_data"
    }
   ],
   "source": [
    "plt.figure(figsize=(10, 6))\n",
    "plt.bar(tickers, optimal_weights)\n",
    "\n",
    "plt.xlabel('Assets')\n",
    "plt.ylabel('Optimal Weights')\n",
    "plt.title('Optimal Portfolio Weights')\n",
    "\n",
    "plt.show()"
   ]
  },
  {
   "cell_type": "markdown",
   "metadata": {},
   "source": [
    "From this, it is clear that the only 3 ETFs I should be invested in are VTI, VWO, VEA. While that may be the optimal allocation, some not considered are my personal risk tolerance and diversification."
   ]
  },
  {
   "cell_type": "code",
   "execution_count": null,
   "metadata": {},
   "outputs": [],
   "source": []
  },
  {
   "cell_type": "code",
   "execution_count": null,
   "metadata": {},
   "outputs": [],
   "source": []
  }
 ],
 "metadata": {
  "kernelspec": {
   "display_name": "Python 3",
   "language": "python",
   "name": "python3"
  },
  "language_info": {
   "codemirror_mode": {
    "name": "ipython",
    "version": 3
   },
   "file_extension": ".py",
   "mimetype": "text/x-python",
   "name": "python",
   "nbconvert_exporter": "python",
   "pygments_lexer": "ipython3",
   "version": "3.11.9"
  }
 },
 "nbformat": 4,
 "nbformat_minor": 2
}
